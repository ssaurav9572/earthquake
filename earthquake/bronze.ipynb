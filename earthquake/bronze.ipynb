{
 "cells": [
  {
   "cell_type": "code",
   "execution_count": null,
   "metadata": {
    "vscode": {
     "languageId": "plaintext"
    }
   },
   "outputs": [],
   "source": [
    "from datetime import date,timedelta\n",
    "#start_date=date.today()-timedelta(7)\n",
    "#end_date=date.today()-timedelta(1)\n",
    "url=url = f\"https://earthquake.usgs.gov/fdsnws/event/1/query?format=geojson&starttime={start_date}&endtime={end_date}\"\n",
    "print(url)"
   ]
  },
  {
   "cell_type": "code",
   "execution_count": null,
   "metadata": {
    "vscode": {
     "languageId": "plaintext"
    }
   },
   "outputs": [],
   "source": [
    "# Welcome to your new notebook\n",
    "# Type here in the cell editor to add code!\n",
    "import requests\n",
    "import json\n",
    "# Construct the API URL with start and end dates provided by Data Factory, formatted for geojson output.\n",
    "url = f\"https://earthquake.usgs.gov/fdsnws/event/1/query?format=geojson&starttime={start_date}&endtime={end_date}\"\n",
    "# Make the GET request to fetch data\n",
    "response = requests.get(url)\n",
    "# Check if the request was successful\n",
    "if response.status_code == 200:\n",
    "    # Get the JSON response\n",
    "    data = response.json()\n",
    "    data = data['features']  \n",
    "    # Specify the file name (and path if needed)\n",
    "    file_path = f'/lakehouse/default/Files/{start_date}_earthquake_data.json'\n",
    "    # Open the file in write mode ('w') and save the JSON data\n",
    "    with open(file_path, 'w') as file:\n",
    "        # The `json.dump` method serializes `data` as a JSON formatted stream to `file`\n",
    "        # `indent=4` makes the file human-readable by adding whitespace\n",
    "        json.dump(data, file, indent=4)\n",
    "    print(f\"Data successfully saved to {file_path}\")\n",
    "else:\n",
    "    print(\"Failed to fetch data. Status code:\", response.status_code)\n"
   ]
  },
  {
   "cell_type": "code",
   "execution_count": null,
   "metadata": {
    "vscode": {
     "languageId": "plaintext"
    }
   },
   "outputs": [],
   "source": [
    "df = spark.read.option(\"multiline\", \"true\").json(\"Files/2025-05-10_earthquake_data.json\")\n",
    "# df now is a Spark DataFrame containing JSON data from \"Files/2025-05-10_earthquake_data.json\".\n",
    "#display(df)"
   ]
  }
 ],
 "metadata": {
  "language_info": {
   "name": "python"
  }
 },
 "nbformat": 4,
 "nbformat_minor": 2
}
